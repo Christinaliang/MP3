{
  "nbformat": 4,
  "nbformat_minor": 0,
  "metadata": {
    "colab": {
      "name": "MP3_part 3.ipynb",
      "version": "0.3.2",
      "provenance": [],
      "collapsed_sections": []
    },
    "kernelspec": {
      "name": "python2",
      "display_name": "Python 2"
    },
    "accelerator": "GPU"
  },
  "cells": [
    {
      "metadata": {
        "id": "YdRRiid27Z5z",
        "colab_type": "code",
        "colab": {}
      },
      "cell_type": "code",
      "source": [
        "from keras.applications.resnet50 import ResNet50\n",
        "from keras.datasets import cifar10\n",
        "from keras.utils import np_utils\n",
        "from keras import backend as K\n",
        "import numpy\n",
        "from keras import optimizers, Model\n",
        "from keras.layers import GlobalAveragePooling2D, Dropout, Dense\n",
        "from keras.callbacks import ModelCheckpoint,ReduceLROnPlateau,LearningRateScheduler,EarlyStopping\n"
      ],
      "execution_count": 0,
      "outputs": []
    },
    {
      "metadata": {
        "id": "SHfQCEHd7aYL",
        "colab_type": "code",
        "colab": {}
      },
      "cell_type": "code",
      "source": [
        "seed = 7\n",
        "numpy.random.seed(seed)\n",
        "(X_train, y_train), (X_test, y_test) = cifar10.load_data()"
      ],
      "execution_count": 0,
      "outputs": []
    },
    {
      "metadata": {
        "id": "GEn-eulc7abA",
        "colab_type": "code",
        "colab": {
          "base_uri": "https://localhost:8080/",
          "height": 34
        },
        "outputId": "f388f143-8c6a-4079-9ad4-ce6d39e5c16f"
      },
      "cell_type": "code",
      "source": [
        "# normalize inputs from 0-255 to 0-1\n",
        "X_train = X_train / 255\n",
        "X_test = X_test / 255\n",
        "# one hot encode outputs\n",
        "y_train = np_utils.to_categorical(y_train)\n",
        "y_test = np_utils.to_categorical(y_test)\n",
        "num_classes = y_test.shape[1]\n",
        "print(X_train.shape,X_test.shape,y_train.shape,y_test.shape)\n",
        "num_classes = 10"
      ],
      "execution_count": 9,
      "outputs": [
        {
          "output_type": "stream",
          "text": [
            "((50000, 32, 32, 3), (10000, 32, 32, 3), (50000, 10), (10000, 10))\n"
          ],
          "name": "stdout"
        }
      ]
    },
    {
      "metadata": {
        "id": "WHvYrZzO7ada",
        "colab_type": "code",
        "colab": {
          "base_uri": "https://localhost:8080/",
          "height": 731
        },
        "outputId": "dd093562-c3df-4713-9a7f-a05d0dd5b4f0"
      },
      "cell_type": "code",
      "source": [
        "model = ResNet50(weights =None,input_shape=X_train.shape[1:],classes=10)\n",
        "Adam = optimizers.Adam(lr=0.001)\n",
        "model.compile(loss='categorical_crossentropy', optimizer=Adam, metrics=['accuracy'])\n",
        "# Fit the model\n",
        "model.fit(X_train, y_train, validation_data=(X_test, y_test), epochs=20, batch_size=128)\n",
        "scores = model.evaluate(X_test, y_test, verbose=0)\n",
        "print(\"CNN Error: %.2f%%\" % (100-scores[1]*100))"
      ],
      "execution_count": 15,
      "outputs": [
        {
          "output_type": "stream",
          "text": [
            "Train on 50000 samples, validate on 10000 samples\n",
            "Epoch 1/20\n",
            "50000/50000 [==============================] - 143s 3ms/step - loss: 2.4650 - acc: 0.1341 - val_loss: 2.3507 - val_acc: 0.1294\n",
            "Epoch 2/20\n",
            "50000/50000 [==============================] - 112s 2ms/step - loss: 2.3713 - acc: 0.1426 - val_loss: 2.6213 - val_acc: 0.1152\n",
            "Epoch 3/20\n",
            "50000/50000 [==============================] - 112s 2ms/step - loss: 2.3526 - acc: 0.1428 - val_loss: 2.9553 - val_acc: 0.1176\n",
            "Epoch 4/20\n",
            "50000/50000 [==============================] - 112s 2ms/step - loss: 2.3890 - acc: 0.1404 - val_loss: 2.8886 - val_acc: 0.1289\n",
            "Epoch 5/20\n",
            "50000/50000 [==============================] - 113s 2ms/step - loss: 2.3740 - acc: 0.1391 - val_loss: 2.2748 - val_acc: 0.1495\n",
            "Epoch 6/20\n",
            "50000/50000 [==============================] - 112s 2ms/step - loss: 2.3394 - acc: 0.1467 - val_loss: 2.2737 - val_acc: 0.1304\n",
            "Epoch 7/20\n",
            "50000/50000 [==============================] - 112s 2ms/step - loss: 2.3698 - acc: 0.1422 - val_loss: 2.5455 - val_acc: 0.0883\n",
            "Epoch 8/20\n",
            "50000/50000 [==============================] - 112s 2ms/step - loss: 2.3896 - acc: 0.1357 - val_loss: 2.3111 - val_acc: 0.1142\n",
            "Epoch 9/20\n",
            "50000/50000 [==============================] - 112s 2ms/step - loss: 2.3626 - acc: 0.1416 - val_loss: 2.2719 - val_acc: 0.1157\n",
            "Epoch 10/20\n",
            "50000/50000 [==============================] - 112s 2ms/step - loss: 2.3603 - acc: 0.1461 - val_loss: 2.3705 - val_acc: 0.1339\n",
            "Epoch 11/20\n",
            "50000/50000 [==============================] - 112s 2ms/step - loss: 2.3508 - acc: 0.1471 - val_loss: 2.3379 - val_acc: 0.1171\n",
            "Epoch 12/20\n",
            "50000/50000 [==============================] - 112s 2ms/step - loss: 2.3523 - acc: 0.1455 - val_loss: 2.3122 - val_acc: 0.1488\n",
            "Epoch 13/20\n",
            "50000/50000 [==============================] - 112s 2ms/step - loss: 2.3484 - acc: 0.1464 - val_loss: 2.7324 - val_acc: 0.1059\n",
            "Epoch 14/20\n",
            "50000/50000 [==============================] - 112s 2ms/step - loss: 2.3498 - acc: 0.1481 - val_loss: 2.3626 - val_acc: 0.1183\n",
            "Epoch 15/20\n",
            "50000/50000 [==============================] - 112s 2ms/step - loss: 2.3475 - acc: 0.1483 - val_loss: 2.3238 - val_acc: 0.1524\n",
            "Epoch 16/20\n",
            "50000/50000 [==============================] - 112s 2ms/step - loss: 2.3514 - acc: 0.1501 - val_loss: 2.3991 - val_acc: 0.0980\n",
            "Epoch 17/20\n",
            "50000/50000 [==============================] - 112s 2ms/step - loss: 2.3825 - acc: 0.1385 - val_loss: 3.0457 - val_acc: 0.1088\n",
            "Epoch 18/20\n",
            "50000/50000 [==============================] - 112s 2ms/step - loss: 2.3852 - acc: 0.1362 - val_loss: 2.8033 - val_acc: 0.0994\n",
            "Epoch 19/20\n",
            "50000/50000 [==============================] - 112s 2ms/step - loss: 2.3680 - acc: 0.1427 - val_loss: 2.4727 - val_acc: 0.0979\n",
            "Epoch 20/20\n",
            "50000/50000 [==============================] - 112s 2ms/step - loss: 2.3541 - acc: 0.1437 - val_loss: 2.3059 - val_acc: 0.1464\n",
            "CNN Error: 85.36%\n"
          ],
          "name": "stdout"
        }
      ]
    }
  ]
}